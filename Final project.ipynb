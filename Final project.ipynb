{
 "cells": [
  {
   "cell_type": "code",
   "execution_count": 2,
   "metadata": {},
   "outputs": [],
   "source": [
    "import numpy as np\n",
    "import math as m\n",
    "import matplotlib.pyplot as plt\n",
    "%matplotlib inline\n",
    "import random as rd\n",
    "from IPython.display import clear_output #allows us to animate results\n",
    "\n",
    "np.set_printoptions(threshold=np.inf)"
   ]
  },
  {
   "cell_type": "code",
   "execution_count": 3,
   "metadata": {},
   "outputs": [],
   "source": [
    "#Below is the code to run trials 1-3 of the Muci model"
   ]
  },
  {
   "cell_type": "code",
   "execution_count": 72,
   "metadata": {},
   "outputs": [],
   "source": [
    "#Variables\n",
    "\n",
    "#Bacterial parameters given in paper\n",
    "tStasis = 10 #time limit for starvation\n",
    "t = 150 #bacterial generations (Originally 300)\n",
    "alpha = 10 #Upper limit of nutrients for feeding bacteria\n",
    "beta  = 5 #lower limit of nutrients for feeding bacteria\n",
    "gamma = 6 #fitness level for reproduction\n",
    "K2 = 4 #increase in fitness\n",
    "K1 = -4 #decrease in fitness\n",
    "starve = 2 #starvation threshold\n",
    "\n",
    "\n",
    "\n",
    "#Environmental parameters\n",
    "Bmax = 40 #maximum possible number of bacteria per cell (Use 400 for trial 1, 40 for trials 2 and 3)\n",
    "Nmax = 1000 #maximum nutrient level in a cell (use 15k for T1, 8k for T2, 1k for T3)\n",
    "m = 10 # automata width (originally 15, changed to shorten run time)\n",
    "n = 75 #automata height  (originally 125)\n",
    "pHmin = 4.5 #min pH for bacteria\n",
    "pHmax = 6.5 #max pH for bacteria\n",
    "CCmax = 5 #opitmal nutrient consumption rate\n",
    "\n",
    "#initial Nutrient, Bacteria, and pH storage matrices. Also includes fitness and starvation storage\n",
    "Nstor = np.full((n,m), Nmax)\n",
    "Bstor = np.zeros([n,m])\n",
    "BTstor = np.zeros([t,n,m])\n",
    "Bstor[0,3] = 1\n",
    "Pstor = pHmax * np.random.rand(n, m)\n",
    "Fstor = np.zeros((n, m, Bmax))\n",
    "Sstor = np.zeros((n, m, Bmax))\n"
   ]
  },
  {
   "cell_type": "code",
   "execution_count": 73,
   "metadata": {},
   "outputs": [],
   "source": [
    "#identifies neighbors of a cell xy\n",
    "def position(root,x,y):\n",
    "    \n",
    "    rows, cols = root.shape\n",
    "    center = root[x,y]\n",
    "    \n",
    "    #all possible neighbors\n",
    "    left= root[x, (y-1)%cols]\n",
    "    right = root[x,(y+1)%cols]\n",
    "    up = root[(x-1)%rows, y]\n",
    "    down = root[(x+1)%rows,y]\n",
    "    upLeft = root[(x-1)%rows, (y-1)%cols]\n",
    "    downLeft = root[(x+1)%rows, (y-1)%cols]\n",
    "    upRight = root[(x-1)%rows, (y+1)%cols]\n",
    "    downRight = root[(x+1)%rows, (y+1)%cols]\n",
    "    across = root[x, (round(y+(cols/2))%cols) ]\n",
    "    \n",
    "    #general case neighborhood\n",
    "    aboutCenter = np.array([\n",
    "                    [upLeft, up, upRight],\n",
    "                    [left, 0, right],\n",
    "                    [downLeft, down, downRight]])\n",
    "    # special case that prevents bacteria from populating cells[-x,-y] when root has a length of 1\n",
    "    if x == 0:\n",
    "        aboutCenter = np.array([\n",
    "                    [0,0,0],\n",
    "                    [left, 0, right],\n",
    "                    [downLeft,down,downRight]])\n",
    "    # special case that prevents bacteria in cell -x,-y from populating row 0. \n",
    "    # Also introduces accross to simulate cone shaped root tip \n",
    "    if x == rows-1:\n",
    "           aboutCenter =  np.array([\n",
    "                    [upLeft, up, upRight],\n",
    "                    [left, across, right],\n",
    "                    [0,0,0]])\n",
    "    return(aboutCenter)"
   ]
  },
  {
   "cell_type": "code",
   "execution_count": 6,
   "metadata": {},
   "outputs": [],
   "source": [
    "#converts array indexing to cartesian coordinates\n",
    "def candToXnYn(x, y):\n",
    "    if x.ndim !=0 and y.ndim!=0:\n",
    "        x = x[0]\n",
    "        y = y[0]\n",
    "    \n",
    "    if x == 0:\n",
    "        Xn = -1\n",
    "    if x == 1:\n",
    "        Xn = 0\n",
    "    if x == 2:\n",
    "        Xn = 1\n",
    "    if y == 0:\n",
    "        Yn = -1\n",
    "    if y == 1:\n",
    "        Yn = 0\n",
    "    if y == 2:\n",
    "        Yn = 1\n",
    "    return(Xn,Yn)"
   ]
  },
  {
   "cell_type": "code",
   "execution_count": 7,
   "metadata": {},
   "outputs": [],
   "source": [
    "#determines how fitness of a single bacterium changes at i+1\n",
    "def KN(n):\n",
    "    if n == 1:\n",
    "        K = K1\n",
    "    if n == 2: #there was ambiguity on how the bacterium should behave at n = 2 in the paper, this is my assumption\n",
    "        K = 0 \n",
    "    if n == 3:\n",
    "        K = K2\n",
    "    return(K)"
   ]
  },
  {
   "cell_type": "code",
   "execution_count": 8,
   "metadata": {},
   "outputs": [],
   "source": [
    "#allows bacterium to be removed from an array without changing the starvation and fitness values of subsequent bacteria\n",
    "#array input MUST specify dimension if using a 3D array and must be saved as same z value of array being modified\n",
    "def shift(shiftFrom, array):\n",
    "\n",
    "    arr = np.delete(array,shiftFrom)\n",
    "    arr = np.append(arr,0)\n",
    "   \n",
    "    return(arr)"
   ]
  },
  {
   "cell_type": "code",
   "execution_count": 118,
   "metadata": {},
   "outputs": [
    {
     "name": "stdout",
     "output_type": "stream",
     "text": [
      "Investigating cell 74 9 \n",
      "Generation 149\n"
     ]
    }
   ],
   "source": [
    "#Regeneration of important bacterial arrays and matrices\n",
    "Nstor = np.full((n,m), Nmax) #matrix \n",
    "Bstor = np.zeros([n,m])#initial bacteria population of 1 at the center of the forming root tip\n",
    "Bstor[0,3]  = 1\n",
    "Pstor = np.full((n,m), pHmax) #matrix that stores root's pH\n",
    "Fstor = np.full((n, m, Bmax), 2)#matrix with values >starve to avoid entering stasis immediately after birth\n",
    "Sstor = np.full((n,m,Bmax), 0) #matrix that holds starvation count for each bacterium\n",
    "Acount = np.zeros(t)\n",
    "Scount = np.zeros(t)\n",
    "\n",
    "#Variables and matrices for root growth\n",
    "R0 = 1250\n",
    "time = np.linspace(0,t,t)\n",
    "U = (-1/300)\n",
    "root = np.zeros([n,m])\n",
    "root[0,:] = 1\n",
    "\n",
    "\n",
    "#For loop that grows root depending on root growth equation and generations\n",
    "for i in range(0,time.size):\n",
    "    \n",
    "    #Governs root growth\n",
    "    \n",
    "    L = R0*(1-(2.71828)**(U*(time[i])))\n",
    "    root[0:int(np.round(L)),:] = 1\n",
    "#     root = np.ones([n,m]) #To run model 2, uncomment this line and comment lines 24 and 25\n",
    "#for loop that examines each possible cell xy\n",
    "    for x in range(0,n):\n",
    "        for y in range(0,m):\n",
    "            \n",
    "            #Tracks total reproduction events per cell\n",
    "            repCounter = 0          \n",
    "            \n",
    "            #Checks for root to colonize\n",
    "            if root[x,y] == 1: \n",
    "                \n",
    "                \n",
    "                #catalogs number of bacteria within cell xy\n",
    "                Bxy = int(Bstor[x,y])\n",
    "                \n",
    "                #caps population of cell xy at Bmax\n",
    "                \n",
    "                if Bxy > Bmax:\n",
    "                    Bstor[x,y] = Bmax                    \n",
    "                    Bxy = Bmax\n",
    "                if Bxy == 0:\n",
    "                    Bstor[x,y] = 1                    \n",
    "                    Bxy = 1\n",
    "                #for loop that checks each bacteria for suitability to reproduce\n",
    "                for Bi in range(0,Bxy):\n",
    "                   \n",
    "                #Updates N:B for each bacterium\n",
    "                    NBstor = np.divide(Nstor,Bstor)\n",
    "                    NBxy = int(NBstor[x,y]) +1\n",
    "                    \n",
    "                    #consumption potential of bacterium Bi\n",
    "                    CC = min(NBxy, CCmax)\n",
    "                    \n",
    "                    if CC != 0:\n",
    "                    \n",
    "                    #Determines how a bacterium's fitness will change in gen i+1\n",
    "                        if NBxy >= alpha:\n",
    "                            N = 3\n",
    "                        if alpha> NBxy > beta:\n",
    "                            N = 2\n",
    "                        if beta > NBxy:\n",
    "                            N = 1\n",
    "                        NBneighbor = position(NBstor, x, y)\n",
    "                        CC = min(NBxy, CCmax)\n",
    "                        \n",
    "                        #Calls on the bacterium's position Bi within the storage and fitness arrays\n",
    "                        Sxy = int(Sstor[x, y, Bi]) \n",
    "                        Fxy = int(Fstor[x, y, Bi])\n",
    "                        \n",
    "                        #Locates cell adjacent to Bxy with best N:B \n",
    "                        bestRatio = np.max(NBneighbor)\n",
    "                        candidate = np.where(NBneighbor == bestRatio)\n",
    "                        \n",
    "                        #Translates candidate coordinates to grid where Bxy is position 0,0\n",
    "                        Xn, Yn = candToXnYn(candidate[0], candidate[1])\n",
    "                        #Determines pH of cell\n",
    "                        Pxy = Pstor[x,y]\n",
    "                        #Determines pH of candidate cell\n",
    "                        candPH = Pstor[x+Xn,(y+Yn)%m]\n",
    "                        \n",
    "                        #reproduction pathway\n",
    "                        if pHmax >= candPH > pHmin and Sxy ==0 and root[x+Xn,(y+Yn)%m]== 1:\n",
    "                            \n",
    "                            #checks for appropriate fitness and candidate cell pop < Bmax\n",
    "                            if Fxy >= gamma and Bstor[x+Xn, (y+Yn)%m] != Bmax:\n",
    "                                \n",
    "                                #halves fitness of Bi to represent cell fission\n",
    "                                Fstor[x, y, Bi] = (Fxy/2)\n",
    "                                \n",
    "                                #bacterium added to candidate cell\n",
    "                                Bstor[x+Xn, (y+Yn)%m] = Bstor[x+Xn, (y+Yn)%m] +1\n",
    "                                \n",
    "                                \n",
    "                                \n",
    "                                repCounter +=1\n",
    "                            \n",
    "                            #if candidate cell is full, no reproduction occurs to prevent overflowing \n",
    "                            elif Fxy >= gamma and Bstor[x+Xn, (y+Yn)%m] == Bmax:\n",
    "                                \n",
    "                                Fstor[x, y, Bi] = (Fxy/2)\n",
    "                                \n",
    "                            \n",
    "                            #Bacteria changes fitness if conditions are not suitable for reproduction or starvtion\n",
    "                            elif starve <= Fxy < gamma:\n",
    "                                \n",
    "                                Fstor[x, y, Bi] = Fxy +KN(N)\n",
    "                                Nstor[x,y] -= CC\n",
    "                                Sstor[x,y,Bi] = 0\n",
    "                            #starvation counter increased by 1 when fitness does not pass threshold\n",
    "                            if Fxy < starve:\n",
    "                                \n",
    "                                Sstor[x, y, Bi] += 1\n",
    "                                Fstor[x, y, Bi] = Fxy +KN(N)\n",
    "                            #Starvation\n",
    "                            if Sxy >= tStasis:\n",
    "                                #shifts values in starvation and fitness arrays to represent death\n",
    "                                Sstor[x, y,:] = shift(Bi, Sstor[x,y,:])\n",
    "                                Fstor[x, y,:] = shift(Bi, Fstor[x,y,:])\n",
    "                               \n",
    "                                Bstor[x,y] = Bstor[x,y]-1\n",
    "                            \n",
    "                            \n",
    "                        \n",
    "                        # poor pH pathway, fitness and starvation can change, reproduction no longer possible         \n",
    "                        else:\n",
    "                            \n",
    "                            #fitness adjustment\n",
    "                            if starve <= Fxy < gamma:\n",
    "                                \n",
    "                                Fstor[x, y, Bi] = Fxy +KN(N)\n",
    "                                Nstor[x,y] -= CC\n",
    "                                Sstor[x,y,Bi] = 0\n",
    "                            \n",
    "                            #Starvation\n",
    "                            if Fxy < starve:\n",
    "                                \n",
    "                                Sstor[x, y, Bi] += 1\n",
    "                                Fstor[x, y, Bi] = Fxy +KN(N)\n",
    "                            #Starvation\n",
    "                            if Sxy >= tStasis:\n",
    "                                \n",
    "                                Sstor[x, y,:] = shift(Bi, Sstor[x,y,:])\n",
    "                                Fstor[x, y,:] = shift(Bi, Fstor[x,y,:])\n",
    "                               \n",
    "                               \n",
    "                                Bstor[x,y] = Bstor[x,y]-1\n",
    "                \n",
    "                \n",
    "                print(\"Investigating cell\",x,y, \"\\nGeneration\",i)\n",
    "                clear_output(wait = True)\n",
    "                #Rapid reproduction degrades environmental pH  \n",
    "            \n",
    "            \n",
    "            \n",
    "            if repCounter >= 4:\n",
    "                Pstor[x,y] = Pstor[x,y]-.1\n",
    "\n",
    "                              \n",
    "\n",
    "                    \n",
    "#The if statement below allows for periodic root exudate release into the environment.\n",
    "#Uncomment the line below and change variables to T3 settings to run trial 3.\n",
    "\n",
    "    if i == 18 or 36 or 54 or 72 or 90 or 108 or 126 or 144:\n",
    "        Nstor = np.add(Nstor, Bmax*2)\n",
    "    BTstor[i,:,:] = Bstor\n",
    "    Acount[i] = np.count_nonzero(Fstor>starve)\n",
    "    Scount[i] = np.count_nonzero(starve>Fstor)\n"
   ]
  },
  {
   "cell_type": "code",
   "execution_count": 110,
   "metadata": {},
   "outputs": [
    {
     "data": {
      "text/plain": [
       "<matplotlib.image.AxesImage at 0x1c813b4fd60>"
      ]
     },
     "execution_count": 110,
     "metadata": {},
     "output_type": "execute_result"
    },
    {
     "data": {
      "image/png": "[encoded data removed]",
      "text/plain": [
       "<Figure size 432x288 with 1 Axes>"
      ]
     },
     "metadata": {
      "needs_background": "light"
     },
     "output_type": "display_data"
    }
   ],
   "source": [
    "#initial bacteria count\n",
    "plt.imshow(BTstor[95,:,:\n",
    "                 ], cmap = 'magma')"
   ]
  },
  {
   "cell_type": "code",
   "execution_count": 119,
   "metadata": {},
   "outputs": [
    {
     "data": {
      "text/plain": [
       "<matplotlib.image.AxesImage at 0x1c81398aaf0>"
      ]
     },
     "execution_count": 119,
     "metadata": {},
     "output_type": "execute_result"
    },
    {
     "data": {
      "image/png": "[encoded data removed]",
      "text/plain": [
       "<Figure size 432x288 with 1 Axes>"
      ]
     },
     "metadata": {
      "needs_background": "light"
     },
     "output_type": "display_data"
    }
   ],
   "source": [
    "plt.imshow(BTstor[0,:,:], cmap = 'magma')"
   ]
  },
  {
   "cell_type": "code",
   "execution_count": 120,
   "metadata": {},
   "outputs": [
    {
     "data": {
      "text/plain": [
       "<matplotlib.image.AxesImage at 0x1c813d7aaf0>"
      ]
     },
     "execution_count": 120,
     "metadata": {},
     "output_type": "execute_result"
    },
    {
     "data": {
      "image/png": "[encoded data removed]",
      "text/plain": [
       "<Figure size 432x288 with 1 Axes>"
      ]
     },
     "metadata": {
      "needs_background": "light"
     },
     "output_type": "display_data"
    }
   ],
   "source": [
    "#early stages of bacterial colonization\n",
    "plt.imshow(BTstor[10,:,:\n",
    "                 ], cmap = 'magma')"
   ]
  },
  {
   "cell_type": "code",
   "execution_count": 121,
   "metadata": {},
   "outputs": [
    {
     "data": {
      "text/plain": [
       "<matplotlib.image.AxesImage at 0x1c813e6aeb0>"
      ]
     },
     "execution_count": 121,
     "metadata": {},
     "output_type": "execute_result"
    },
    {
     "data": {
      "image/png": "[encoded data removed]",
      "text/plain": [
       "<Figure size 432x288 with 1 Axes>"
      ]
     },
     "metadata": {
      "needs_background": "light"
     },
     "output_type": "display_data"
    }
   ],
   "source": [
    "plt.imshow(BTstor[25,:,:\n",
    "                 ], cmap = 'magma')"
   ]
  },
  {
   "cell_type": "code",
   "execution_count": 122,
   "metadata": {},
   "outputs": [
    {
     "data": {
      "text/plain": [
       "<matplotlib.image.AxesImage at 0x1c813ebf3d0>"
      ]
     },
     "execution_count": 122,
     "metadata": {},
     "output_type": "execute_result"
    },
    {
     "data": {
      "image/png": "[encoded data removed]",
      "text/plain": [
       "<Figure size 432x288 with 1 Axes>"
      ]
     },
     "metadata": {
      "needs_background": "light"
     },
     "output_type": "display_data"
    }
   ],
   "source": [
    "#roughly halfway through point in model where observable change still occurs\n",
    "plt.imshow(BTstor[40,:,:\n",
    "                 ], cmap = 'magma')"
   ]
  },
  {
   "cell_type": "code",
   "execution_count": 123,
   "metadata": {},
   "outputs": [
    {
     "data": {
      "text/plain": [
       "<matplotlib.image.AxesImage at 0x1c813f0a8b0>"
      ]
     },
     "execution_count": 123,
     "metadata": {},
     "output_type": "execute_result"
    },
    {
     "data": {
      "image/png": "[encoded data removed]",
      "text/plain": [
       "<Figure size 432x288 with 1 Axes>"
      ]
     },
     "metadata": {
      "needs_background": "light"
     },
     "output_type": "display_data"
    }
   ],
   "source": [
    "\n",
    "#End state of bacteria, pattern repeats from here until end of simulation\n",
    "plt.imshow(BTstor[55,:,:\n",
    "                 ], cmap = 'magma')"
   ]
  },
  {
   "cell_type": "code",
   "execution_count": 124,
   "metadata": {},
   "outputs": [
    {
     "data": {
      "text/plain": [
       "<matplotlib.image.AxesImage at 0x1c813f54dc0>"
      ]
     },
     "execution_count": 124,
     "metadata": {},
     "output_type": "execute_result"
    },
    {
     "data": {
      "image/png": "[encoded data removed]",
      "text/plain": [
       "<Figure size 432x288 with 1 Axes>"
      ]
     },
     "metadata": {
      "needs_background": "light"
     },
     "output_type": "display_data"
    }
   ],
   "source": [
    "plt.imshow(BTstor[85,:,:], cmap = 'magma')"
   ]
  },
  {
   "cell_type": "code",
   "execution_count": 125,
   "metadata": {},
   "outputs": [
    {
     "data": {
      "text/plain": [
       "[<matplotlib.lines.Line2D at 0x1c813fab5e0>]"
      ]
     },
     "execution_count": 125,
     "metadata": {},
     "output_type": "execute_result"
    },
    {
     "data": {
      "image/png": "[encoded data removed]",
      "text/plain": [
       "<Figure size 432x288 with 1 Axes>"
      ]
     },
     "metadata": {
      "needs_background": "light"
     },
     "output_type": "display_data"
    }
   ],
   "source": [
    "#plots count of active bacteria (fitness > starve) and count of bacteria in starving state\n",
    "#Unfortunately, I could not recreate this graph because the method I emplemented to track fitness and starvation\n",
    "#and I could not find or figure out how to design a function that could track active count and starvation count.\n",
    "#At some point along development Scount ceased tracking starvation count and I could not figure out why it didn't\n",
    "# work while Acount did despite them utilizing the exact same method to track activity and starvation.\n",
    "#This is as close as I could come to recreating the graph.\n",
    "plt.plot(Acount)\n",
    "plt.plot(Scount)"
   ]
  },
  {
   "cell_type": "code",
   "execution_count": 431,
   "metadata": {},
   "outputs": [],
   "source": [
    "#Below are variables to run the two trials of our experiment to replicate Ankati's data\n",
    "#Variables\n",
    "\n",
    "#Bacterial parameters given in paper\n",
    "tStasis = 10 #time limit for starvation\n",
    "t = 25 #bacterial generations\n",
    "alpha = 1 #Upper limit of nutrients for feeding bacteria\n",
    "beta  = 5 #lower limit of nutrients for feeding bacteria\n",
    "gamma = 4 #fitness level for reproduction\n",
    "K2 = 6 #increase in fitness\n",
    "K1 = -4 #decrease in fitness\n",
    "starve = 2 #starvation threshold\n",
    "theta = 4#average sum of bacteria in bottom row required to promote root growth\n",
    "PC = 10 #optimal consumption potential of plant\n",
    "\n",
    "#Environmental parameters\n",
    "Bmax = 10 #maximum possible number of bacteria per cell (originally 400)\n",
    "Nmax = 200 #maximum nutrient level in a cell, alt values are 10k and 15k\n",
    "m = 10 # automata width (originally 15, changed to shorten run time)\n",
    "n = 500 #automata height  (originally 125)\n",
    "pHmin = 4.5 #min pH for bacteria\n",
    "pHmax = 6.5 #max pH for bacteria\n",
    "CCmax = 5 #opitmal nutrient consumption rate\n",
    "\n",
    "#initial Nutrient, Bacteria, and pH storage matrices. Also includes fitness and starvation storage\n",
    "Nstor = np.full((n,m), Nmax)\n",
    "Bstor = np.zeros([n,m])\n",
    "R1stor = np.zeros([t,n,m])\n",
    "R2stor = np.zeros([t,n,m])\n",
    "Bstor[0,3] = 1\n",
    "Pstor = pHmax * np.random.rand(n, m)\n",
    "Fstor = np.zeros((n, m, Bmax))\n",
    "Sstor = np.zeros((n, m, Bmax))\n"
   ]
  },
  {
   "cell_type": "code",
   "execution_count": 497,
   "metadata": {},
   "outputs": [
    {
     "name": "stdout",
     "output_type": "stream",
     "text": [
      "Investigating cell 399 9 \n",
      "Generation 24\n"
     ]
    }
   ],
   "source": [
    "\n",
    "#Changes in this model from Muci's, bacteria are presumed to constantly replicate because of high \n",
    "#root exudate concentration and therefore the plant is expected to grow at the increase reate R1 for the\n",
    "#duration of the simulation. Otherwise, our attempt at implementing Muci's model is preserved\n",
    "\n",
    "#Regeneration of important bacterial arrays and matrices\n",
    "Nstor = np.full((n,m), Nmax) #matrix \n",
    "Bstor = np.full([n,m],3)#initial bacteria population evenly dispersed within soil to mimic bacteriazation of soil\n",
    "\n",
    "Pstor = np.full((n,m), pHmax) #matrix that stores root's pH\n",
    "Fstor = np.full((n, m, Bmax), 3)#matrix with values >starve to avoid entering stasis immediately after birth\n",
    "Sstor = np.full((n,m,Bmax), 0) #matrix that holds starvation count for each bacterium\n",
    "\n",
    "\n",
    "#Variables and matrices for root growth\n",
    "\n",
    "R1 = 2125 \n",
    "time = np.linspace(0,t,t)\n",
    "U = (-1/300)\n",
    "root1 = np.zeros([n,m])\n",
    "root1[0,:] = 1\n",
    "\n",
    "\n",
    "#For loop that grows root depending on root growth equation and generations\n",
    "for i in range(0,time.size):\n",
    "    \n",
    "    \n",
    "    L = R1*(1-(2.71828)**(U*(time[i])))\n",
    "    root1[0:int(np.round(L)),:] = 1\n",
    "#     root = np.ones([n,m])\n",
    "#for loop that examines each possible cell xy\n",
    "    for x in range(0,n):\n",
    "        for y in range(0,m):\n",
    "            \n",
    "            #Tracks total reproduction events per cell\n",
    "            repCounter = 0          \n",
    "            \n",
    "            #Checks for root to colonize\n",
    "            if root1[x,y] == 1: \n",
    "                \n",
    "                \n",
    "                #catalogs number of bacteria within cell xy\n",
    "                Bxy = int(Bstor[x,y])\n",
    "                \n",
    "                #caps population of cell xy at Bmax\n",
    "                \n",
    "                if Bxy > Bmax:\n",
    "                    Bstor[x,y] = Bmax                    \n",
    "                    Bxy = Bmax\n",
    "                if Bxy == 0:\n",
    "                    Bstor[x,y] = 1                    \n",
    "                    Bxy = 1\n",
    "                #for loop that checks each bacteria for suitability to reproduce\n",
    "                for Bi in range(0,Bxy):\n",
    "                   \n",
    "                #Updates N:B for each bacterium\n",
    "                    NBstor = np.divide(Nstor,Bstor)\n",
    "                    NBxy = int(NBstor[x,y]) +1\n",
    "                    \n",
    "                    #consumption potential of bacterium Bi\n",
    "                    CC = min(NBxy, CCmax)\n",
    "                    \n",
    "                    if CC != 0:\n",
    "                    \n",
    "                    #Determines how a bacterium's fitness will change in gen i+1\n",
    "                        if NBxy >= alpha:\n",
    "                            N = 3\n",
    "                        if alpha> NBxy > beta:\n",
    "                            N = 2\n",
    "                        if beta > NBxy:\n",
    "                            N = 1\n",
    "                        NBneighbor = position(NBstor, x, y)\n",
    "                        CC = min(NBxy, CCmax)\n",
    "                        \n",
    "                        #Calls on the bacterium's position Bi within the storage and fitness arrays\n",
    "                        Sxy = int(Sstor[x, y, Bi]) \n",
    "                        Fxy = int(Fstor[x, y, Bi])\n",
    "                        \n",
    "                        #Locates cell adjacent to Bxy with best N:B \n",
    "                        bestRatio = np.max(NBneighbor)\n",
    "                        candidate = np.where(NBneighbor == bestRatio)\n",
    "                        \n",
    "                        #Translates candidate coordinates to grid where Bxy is position 0,0\n",
    "                        Xn, Yn = candToXnYn(candidate[0], candidate[1])\n",
    "                        #Determines pH of cell\n",
    "                        Pxy = Pstor[x,y]\n",
    "                        #Determines pH of candidate cell\n",
    "                        candPH = Pstor[x+Xn,(y+Yn)%m]\n",
    "                        \n",
    "                        #reproduction pathway\n",
    "                        if pHmax >= candPH > pHmin and Sxy ==0 and root1[x+Xn,(y+Yn)%m]== 1:\n",
    "                            \n",
    "                            #checks for appropriate fitness and candidate cell pop < Bmax\n",
    "                            if Fxy >= gamma and Bstor[x+Xn, (y+Yn)%m] != Bmax:\n",
    "                                \n",
    "                                #halves fitness of Bi to represent cell fission\n",
    "                                Fstor[x, y, Bi] = (Fxy/2)\n",
    "                                \n",
    "                                #bacterium added to candidate cell\n",
    "                                Bstor[x+Xn, (y+Yn)%m] = Bstor[x+Xn, (y+Yn)%m] +1\n",
    "                                \n",
    "                                \n",
    "                                \n",
    "                                repCounter +=1\n",
    "                            \n",
    "                            #if candidate cell is full, no reproduction occurs to prevent overflowing \n",
    "                            elif Fxy >= gamma and Bstor[x+Xn, (y+Yn)%m] == Bmax:\n",
    "                                \n",
    "                                Fstor[x, y, Bi] = (Fxy/2)\n",
    "                                \n",
    "                            \n",
    "                            #Bacteria changes fitness if conditions are not suitable for reproduction or starvtion\n",
    "                            elif starve <= Fxy < gamma:\n",
    "                                \n",
    "                                Fstor[x, y, Bi] = Fxy +KN(N)\n",
    "                                Nstor[x,y] -= CC\n",
    "                                Sstor[x,y,Bi] = 0\n",
    "                            #starvation counter increased by 1 when fitness does not pass threshold\n",
    "                            if Fxy < starve:\n",
    "                                \n",
    "                                Sstor[x, y, Bi] += 1\n",
    "                            \n",
    "                            #Starvation\n",
    "                            if Sxy >= tStasis:\n",
    "                                #shifts values in starvation and fitness arrays to represent death\n",
    "                                Sstor[x, y,:] = shift(Bi, Sstor[x,y,:])\n",
    "                                Fstor[x, y,:] = shift(Bi, Fstor[x,y,:])\n",
    "                               \n",
    "                                Bstor[x,y] = Bstor[x,y]-1\n",
    "                            \n",
    "                            \n",
    "                        \n",
    "                        # poor pH pathway, fitness and starvation can change, reproduction no longer possible         \n",
    "                        else:\n",
    "                            \n",
    "                            #fitness adjustment\n",
    "                            if starve <= Fxy < gamma:\n",
    "                                \n",
    "                                Fstor[x, y, Bi] = Fxy +KN(N)\n",
    "                                Nstor[x,y] -= CC\n",
    "                                Sstor[x,y,Bi] = 0\n",
    "                            \n",
    "                            #Starvation\n",
    "                            if Fxy < starve:\n",
    "                                \n",
    "                                Sstor[x, y, Bi] += 1\n",
    "                            \n",
    "                            #Starvation\n",
    "                            if Sxy >= tStasis:\n",
    "                                \n",
    "                                Sstor[x, y,:] = shift(Bi, Sstor[x,y,:])\n",
    "                                Fstor[x, y,:] = shift(Bi, Fstor[x,y,:])\n",
    "                               \n",
    "                               \n",
    "                                Bstor[x,y] = Bstor[x,y]-1\n",
    "                \n",
    "                \n",
    "                print(\"Investigating cell\",x,y, \"\\nGeneration\",i)\n",
    "#                 print(root1)\n",
    "                clear_output(wait = True)\n",
    "                #Rapid reproduction degrades environmental pH  \n",
    "            \n",
    "            \n",
    "            \n",
    "            if repCounter >= 4:\n",
    "                Pstor[x,y] = Pstor[x,y]-.1\n",
    "\n",
    "                              \n",
    "\n",
    "                    #Plotting, updates after a new cell is examined\n",
    "                     #Uncomment this line to view progress through automata\n",
    "#                     print(\"Bacterial count\\n\",np.round(Bstor)) #uncomment this line to view as matrix\n",
    "                    \n",
    "                    #image plotting, considerably slower than displaying as a matrix\n",
    "                    #Cannot show cell position or generation number without display errors\n",
    "#                     plt.imshow(Bstor, cmap = 'magma')\n",
    "#                     plt.show()\n",
    "\n",
    "            \n",
    "            R1stor[i,:,:] = root1\n",
    "            Acount[i] = np.count_nonzero(Fstor>0)\n",
    "            Scount[i] = np.count_nonzero(Scount)"
   ]
  },
  {
   "cell_type": "code",
   "execution_count": 499,
   "metadata": {},
   "outputs": [
    {
     "data": {
      "text/plain": [
       "<matplotlib.image.AxesImage at 0x173ca817f70>"
      ]
     },
     "execution_count": 499,
     "metadata": {},
     "output_type": "execute_result"
    },
    {
     "data": {
      "image/png": "[encoded data removed]",
      "text/plain": [
       "<Figure size 432x288 with 1 Axes>"
      ]
     },
     "metadata": {
      "needs_background": "light"
     },
     "output_type": "display_data"
    }
   ],
   "source": [
    "plt.imshow(R1stor[24,:,:])\n"
   ]
  },
  {
   "cell_type": "code",
   "execution_count": 507,
   "metadata": {},
   "outputs": [
    {
     "name": "stdout",
     "output_type": "stream",
     "text": [
      "Investigating gen 24\n"
     ]
    }
   ],
   "source": [
    "#Because root growth here is independent of PGPR colonization, the plant is not able to maintain \n",
    "#the growth rate of R1 after it has depleted the soil's natural reserves of the hormone and \n",
    "#grows at a slowed rate after that point.\n",
    "Bstor = np.full([n,m],0)#initial bacteria population evenly dispersed within soil to mimic bacteriazation of soil\n",
    "PNstor = 1800\n",
    "\n",
    "#Variables and matrices for root growth\n",
    "R1 = 2125\n",
    "\n",
    "time = np.linspace(0,t,t)\n",
    "U = (1/300)\n",
    "root2 = np.zeros([n,m])\n",
    "root2[0,:] = 1\n",
    "\n",
    "\n",
    "#For loop that grows root depending on root growth equation and generations\n",
    "for i in range(0,time.size):\n",
    "    \n",
    "    R = PGPR(Bstor,root2,PNstor)\n",
    "    \n",
    "    L = R*(1-(2.71828)**(-U*(time[i])))\n",
    "    \n",
    "    \n",
    "\n",
    "    \n",
    "    print(\"Investigating gen\", i)\n",
    "    clear_output(wait = True)\n",
    "    R2stor[i,:,:] = root2\n",
    "           "
   ]
  },
  {
   "cell_type": "code",
   "execution_count": 508,
   "metadata": {},
   "outputs": [
    {
     "data": {
      "text/plain": [
       "<matplotlib.image.AxesImage at 0x173c6b3b850>"
      ]
     },
     "execution_count": 508,
     "metadata": {},
     "output_type": "execute_result"
    },
    {
     "data": {
      "image/png": "[encoded data removed]",
      "text/plain": [
       "<Figure size 432x288 with 1 Axes>"
      ]
     },
     "metadata": {
      "needs_background": "light"
     },
     "output_type": "display_data"
    }
   ],
   "source": [
    "plt.imshow(R2stor[12,:,:])"
   ]
  },
  {
   "cell_type": "code",
   "execution_count": 500,
   "metadata": {},
   "outputs": [],
   "source": [
    "#Function governing when hormone runs out \n",
    "def PGPR(Bstor,root,PNstor):\n",
    "    bottom = np.max(np.where(root == 1)[0])\n",
    "    bBott = np.sum(Bstor[bottom,:])\n",
    "    \n",
    "    #Governs root growth, if average bacteria/cell is above or equal to theta, root growth is rapidly increased\n",
    "    if (bBott/m) >= theta:\n",
    "        PNstor += bBott\n",
    "    #if current store of nutrients greater than amount consumed by each cell in bottom row of root\n",
    "    if PNstor >= m*PC:\n",
    "        R = R1\n",
    "        PNstor -=m*PC\n",
    "    else:\n",
    "        R = 0\n",
    "    return(R)"
   ]
  },
  {
   "cell_type": "code",
   "execution_count": 512,
   "metadata": {},
   "outputs": [
    {
     "data": {
      "image/png": "[encoded data removed]",
      "text/plain": [
       "<Figure size 432x288 with 1 Axes>"
      ]
     },
     "metadata": {
      "needs_background": "light"
     },
     "output_type": "display_data"
    }
   ],
   "source": [
    "#plotting of bar graph\n",
    "bact12 = np.max(np.where(R1stor[12,:,:] == 1)[0])\n",
    "bact24 = np.max(np.where(R1stor[24,:,:] == 1)[0])\n",
    "nobact12 = np.max(np.where(R2stor[12,:,:] == 1)[0])\n",
    "nobact24 = np.max(np.where(R2stor[24,:,:] == 1)[0])\n",
    "\n",
    "\n",
    "labels = ['Time 12', \"Time 24\"]\n",
    "bactRoot = [bact12,bact24]\n",
    "noBactRoot = [nobact12,nobact24]\n",
    "\n",
    "x = np.arange(len(labels))  # the label locations\n",
    "width = 0.35  # the width of the bars\n",
    "\n",
    "fig, ax = plt.subplots()\n",
    "rects1 = ax.bar(x - width/2, noBactRoot, width, label='Untreated Root')\n",
    "rects2 = ax.bar(x + width/2, bactRoot, width, label='Bacterialized Root')\n",
    "\n",
    "# Add some text for labels, title and custom x-axis tick labels, etc.\n",
    "ax.set_ylabel('Root length (cm)')\n",
    "ax.set_title('Root lengths of bacterilized and non-baccterialized roots')\n",
    "ax.set_xticks(x)\n",
    "ax.set_xticklabels(labels)\n",
    "ax.legend()\n",
    "\n",
    "\n",
    "def autolabel(rects):\n",
    "    \"\"\"Attach a text label above each bar in *rects*, displaying its height.\"\"\"\n",
    "    for rect in rects:\n",
    "        height = rect.get_height()\n",
    "        ax.annotate('{}'.format(height),\n",
    "                    xy=(rect.get_x() + rect.get_width() / 2, height),\n",
    "                    xytext=(0, 3),  # 3 points vertical offset\n",
    "                    textcoords=\"offset points\",\n",
    "                    ha='center', va='bottom')\n",
    "\n",
    "autolabel(rects1)\n",
    "autolabel(rects2)\n",
    "\n",
    "fig.tight_layout()\n",
    "\n",
    "plt.show()"
   ]
  }
 ],
 "metadata": {
  "kernelspec": {
   "display_name": "Python 3",
   "language": "python",
   "name": "python3"
  },
  "language_info": {
   "codemirror_mode": {
    "name": "ipython",
    "version": 3
   },
   "file_extension": ".py",
   "mimetype": "text/x-python",
   "name": "python",
   "nbconvert_exporter": "python",
   "pygments_lexer": "ipython3",
   "version": "3.8.5"
  }
 },
 "nbformat": 4,
 "nbformat_minor": 4
}
